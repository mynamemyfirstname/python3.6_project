{
 "cells": [
  {
   "cell_type": "code",
   "execution_count": 1,
   "metadata": {},
   "outputs": [
    {
     "name": "stdout",
     "output_type": "stream",
     "text": [
      "Hello world\n"
     ]
    }
   ],
   "source": [
    "print (\"Hello world\")"
   ]
  },
  {
   "cell_type": "code",
   "execution_count": null,
   "metadata": {},
   "outputs": [],
   "source": [
    "var = 'This is my strinl'\n",
    "help  "
   ]
  },
  {
   "cell_type": "code",
   "execution_count": 4,
   "metadata": {},
   "outputs": [
    {
     "data": {
      "text/plain": [
       "True"
      ]
     },
     "execution_count": 4,
     "metadata": {},
     "output_type": "execute_result"
    }
   ],
   "source": [
    "var = True\n",
    "var is True"
   ]
  },
  {
   "cell_type": "code",
   "execution_count": 5,
   "metadata": {},
   "outputs": [
    {
     "data": {
      "text/plain": [
       "True"
      ]
     },
     "execution_count": 5,
     "metadata": {},
     "output_type": "execute_result"
    }
   ],
   "source": [
    "var =True\n",
    "mystring = 'example'\n",
    "mystring is 'example'"
   ]
  },
  {
   "cell_type": "code",
   "execution_count": 8,
   "metadata": {},
   "outputs": [
    {
     "data": {
      "text/plain": [
       "int"
      ]
     },
     "execution_count": 8,
     "metadata": {},
     "output_type": "execute_result"
    }
   ],
   "source": [
    "mynum = 1996\n",
    "type(mynum)"
   ]
  },
  {
   "cell_type": "code",
   "execution_count": 15,
   "metadata": {},
   "outputs": [
    {
     "name": "stdout",
     "output_type": "stream",
     "text": [
      "[]\n"
     ]
    }
   ],
   "source": [
    "mylist = [ ]\n",
    "type(mylist)\n",
    "print (mylist)"
   ]
  },
  {
   "cell_type": "code",
   "execution_count": 16,
   "metadata": {},
   "outputs": [
    {
     "name": "stdout",
     "output_type": "stream",
     "text": [
      "['Abdul']\n"
     ]
    }
   ],
   "source": [
    "users = [ 'Abdul']\n",
    "\n",
    "print(users)"
   ]
  },
  {
   "cell_type": "code",
   "execution_count": 17,
   "metadata": {},
   "outputs": [
    {
     "name": "stdout",
     "output_type": "stream",
     "text": [
      "['Abdul', 'Farkhod']\n"
     ]
    }
   ],
   "source": [
    "users = [ 'Abdul']\n",
    "users.append ('Farkhod')\n",
    "\n",
    "print(users)"
   ]
  },
  {
   "cell_type": "code",
   "execution_count": 19,
   "metadata": {},
   "outputs": [
    {
     "name": "stdout",
     "output_type": "stream",
     "text": [
      "['Abdul', 'Farkhod', True]\n"
     ]
    }
   ],
   "source": [
    "users = [ 'Abdul']\n",
    "users.append ('Farkhod')\n",
    "users.append (True)\n",
    "print(users)"
   ]
  },
  {
   "cell_type": "code",
   "execution_count": 20,
   "metadata": {
    "scrolled": true
   },
   "outputs": [
    {
     "name": "stdout",
     "output_type": "stream",
     "text": [
      "['Abdul', 'Farkhod']\n"
     ]
    }
   ],
   "source": [
    "users = [ 'Abdul']\n",
    "users.append ('Farkhod')\n",
    "users.append (True)\n",
    "users.remove(True)\n",
    "print(users)"
   ]
  },
  {
   "cell_type": "code",
   "execution_count": 22,
   "metadata": {},
   "outputs": [
    {
     "name": "stdout",
     "output_type": "stream",
     "text": [
      "['Abdul', 'Farkhod', 'Nodira', 'Anna']\n"
     ]
    }
   ],
   "source": [
    "users = ['Abdul']\n",
    "users.append ('Farkhod')\n",
    "users.append ('Nodira')\n",
    "users.append('Anna')\n",
    "print(users)\n"
   ]
  },
  {
   "cell_type": "code",
   "execution_count": 22,
   "metadata": {},
   "outputs": [
    {
     "name": "stdout",
     "output_type": "stream",
     "text": [
      "['Abdul', 'Farkhod', 'Nodira', 'Anna']\n"
     ]
    }
   ],
   "source": [
    "users = ['Abdul']\n",
    "users.append ('Farkhod')\n",
    "users.append ('Nodira')\n",
    "users.append('Anna')\n",
    "\n",
    "print(users)\n"
   ]
  },
  {
   "cell_type": "code",
   "execution_count": 24,
   "metadata": {},
   "outputs": [
    {
     "name": "stdout",
     "output_type": "stream",
     "text": [
      "['Abdul', 'Farkhod', 'Nodira', 'Anna', 'Anna', 'Anna', 'Zhana']\n",
      "0\n"
     ]
    }
   ],
   "source": [
    "users = ['Abdul']\n",
    "users.append('Farkhod')\n",
    "users.append('Nodira')\n",
    "users.append('Anna')\n",
    "users.append('Anna')\n",
    "users.append('Anna')\n",
    "users.append('Zhana')\n",
    "print(users)\n",
    "print(users.count('Anna\"'))\n"
   ]
  },
  {
   "cell_type": "code",
   "execution_count": 25,
   "metadata": {},
   "outputs": [
    {
     "name": "stdout",
     "output_type": "stream",
     "text": [
      "['Abdul', 'Farkhod', 'Nodira', 'Anna', 'Anna', 'Anna', 'Zhana']\n",
      "['Abdul', 'Farkhod', 'Nodira', 'Anna', 'Anna', 'Zhana']\n",
      "['Abdul', 'Farkhod', 'Anna', 'Anna', 'Zhana']\n"
     ]
    }
   ],
   "source": [
    "users = ['Abdul']\n",
    "users.append('Farkhod')\n",
    "users.append('Nodira')\n",
    "users.append('Anna')\n",
    "users.append('Anna')\n",
    "users.append('Anna')\n",
    "users.append('Zhana')\n",
    "print(users)\n",
    "users.remove('Anna')\n",
    "print(users)\n",
    "\n",
    "users.pop(2)\n",
    "print(users)"
   ]
  },
  {
   "cell_type": "code",
   "execution_count": 26,
   "metadata": {},
   "outputs": [
    {
     "name": "stdout",
     "output_type": "stream",
     "text": [
      "['Abdul', 'Farkhod', 'Nodira', 'Anna', 'Anna', 'Anna', 'Zhana']\n",
      "['Abdul', 'Farkhod', 'Nodira', 'Anna', 'Anna', 'Zhana']\n",
      "['Farkhod', 'Nodira', 'Anna', 'Anna', 'Zhana']\n"
     ]
    }
   ],
   "source": [
    "users = ['Abdul']\n",
    "users.append('Farkhod')\n",
    "users.append('Nodira')\n",
    "users.append('Anna')\n",
    "users.append('Anna')\n",
    "users.append('Anna')\n",
    "users.append('Zhana')\n",
    "print(users)\n",
    "users.remove('Anna')\n",
    "print(users)\n",
    "\n",
    "users.pop(0)\n",
    "print(users)"
   ]
  },
  {
   "cell_type": "code",
   "execution_count": 31,
   "metadata": {},
   "outputs": [
    {
     "name": "stdout",
     "output_type": "stream",
     "text": [
      "{'type': 'Fruit', 'color': 'orange ', 'count': 1}\n"
     ]
    }
   ],
   "source": [
    "mydict = { 'type' : 'Fruit', 'color' :'orange '}\n",
    "mydict['count'] = 1\n",
    "print(mydiet)"
   ]
  },
  {
   "cell_type": "code",
   "execution_count": 33,
   "metadata": {},
   "outputs": [
    {
     "name": "stdout",
     "output_type": "stream",
     "text": [
      "dict_values(['Fruit', 'orange ', 1])\n"
     ]
    }
   ],
   "source": [
    "mydict = { 'type' : 'Fruit', 'color' :'orange '}\n",
    "mydict['count'] = 1\n",
    "\n",
    "mylist = mydict.values()\n",
    "print(mylist)"
   ]
  },
  {
   "cell_type": "code",
   "execution_count": 38,
   "metadata": {},
   "outputs": [
    {
     "name": "stdout",
     "output_type": "stream",
     "text": [
      "{'type': 'Fruit', 'color': 'Red', 'count': 1}\n"
     ]
    }
   ],
   "source": [
    "mydict = { 'type' : 'Fruit', 'color' :'orange',}\n",
    "\n",
    "mydict['color'] = 'Red'\n",
    "mydict ['count'] =  1\n",
    "          \n",
    "print(mydict)"
   ]
  },
  {
   "cell_type": "code",
   "execution_count": null,
   "metadata": {},
   "outputs": [],
   "source": []
  }
 ],
 "metadata": {
  "kernelspec": {
   "display_name": "Python 3",
   "language": "python",
   "name": "python3"
  },
  "language_info": {
   "codemirror_mode": {
    "name": "ipython",
    "version": 3
   },
   "file_extension": ".py",
   "mimetype": "text/x-python",
   "name": "python",
   "nbconvert_exporter": "python",
   "pygments_lexer": "ipython3",
   "version": "3.6.5"
  }
 },
 "nbformat": 4,
 "nbformat_minor": 2
}
